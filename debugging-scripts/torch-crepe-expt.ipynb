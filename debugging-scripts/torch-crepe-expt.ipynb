{
 "cells": [
  {
   "cell_type": "code",
   "execution_count": 45,
   "metadata": {},
   "outputs": [],
   "source": [
    "audio_path = \"/home/anna-huang/Projects/Nithya/GaMaDHaNi-dev/audio-examples/input.wav\""
   ]
  },
  {
   "cell_type": "code",
   "execution_count": 46,
   "metadata": {},
   "outputs": [],
   "source": [
    "import matplotlib.pyplot as plt\n",
    "import time\n"
   ]
  },
  {
   "cell_type": "markdown",
   "metadata": {},
   "source": [
    "# torchcrepe"
   ]
  },
  {
   "cell_type": "code",
   "execution_count": 47,
   "metadata": {},
   "outputs": [],
   "source": [
    "import torchcrepe"
   ]
  },
  {
   "cell_type": "code",
   "execution_count": 48,
   "metadata": {},
   "outputs": [],
   "source": [
    "audio, sr = torchcrepe.load.audio(audio_path)"
   ]
  },
  {
   "cell_type": "code",
   "execution_count": 50,
   "metadata": {},
   "outputs": [],
   "source": [
    "# convert audio to mono\n",
    "if audio.shape[0] > 1:\n",
    "    audio = audio.mean(axis=0, keepdim=True)"
   ]
  },
  {
   "cell_type": "code",
   "execution_count": 52,
   "metadata": {},
   "outputs": [
    {
     "name": "stdout",
     "output_type": "stream",
     "text": [
      "441\n"
     ]
    }
   ],
   "source": [
    "hop_length = int(0.01 * sr)\n",
    "print(hop_length)"
   ]
  },
  {
   "cell_type": "code",
   "execution_count": 53,
   "metadata": {},
   "outputs": [],
   "source": [
    "fmin = 80\n",
    "fmax = 800"
   ]
  },
  {
   "cell_type": "code",
   "execution_count": 54,
   "metadata": {},
   "outputs": [],
   "source": [
    "model = 'tiny'\n",
    "device = 'cuda'"
   ]
  },
  {
   "cell_type": "code",
   "execution_count": 55,
   "metadata": {},
   "outputs": [
    {
     "name": "stdout",
     "output_type": "stream",
     "text": [
      "CPU times: user 575 ms, sys: 16 ms, total: 591 ms\n",
      "Wall time: 425 ms\n"
     ]
    }
   ],
   "source": [
    "%time torch_pitch = torchcrepe.predict(audio, sr, model=model, device=device, hop_length=hop_length, fmin=fmin, fmax=fmax)\n"
   ]
  },
  {
   "cell_type": "code",
   "execution_count": 56,
   "metadata": {},
   "outputs": [
    {
     "data": {
      "text/plain": [
       "torch.Size([1, 394])"
      ]
     },
     "execution_count": 56,
     "metadata": {},
     "output_type": "execute_result"
    }
   ],
   "source": [
    "torch_pitch.shape"
   ]
  },
  {
   "cell_type": "markdown",
   "metadata": {},
   "source": [
    "# crepe"
   ]
  },
  {
   "cell_type": "code",
   "execution_count": 57,
   "metadata": {},
   "outputs": [],
   "source": [
    "import crepe\n",
    "import librosa\n",
    "import numpy as np\n",
    "from hmmlearn import hmm"
   ]
  },
  {
   "cell_type": "code",
   "execution_count": 58,
   "metadata": {},
   "outputs": [],
   "source": [
    "def predict_voicing(confidence):\n",
    "    # https://github.com/marl/crepe/pull/26\n",
    "    \"\"\"\n",
    "    Find the Viterbi path for voiced versus unvoiced frames.\n",
    "    Parameters\n",
    "    ----------\n",
    "    confidence : np.ndarray [shape=(N,)]\n",
    "        voicing confidence array, i.e. the confidence in the presence of\n",
    "        a pitch\n",
    "    Returns\n",
    "    -------\n",
    "    voicing_states : np.ndarray [shape=(N,)]\n",
    "        HMM predictions for each frames state, 0 if unvoiced, 1 if\n",
    "        voiced\n",
    "    \"\"\"\n",
    "    # uniform prior on the voicing confidence\n",
    "    starting = np.array([0.5, 0.5])\n",
    "\n",
    "    # transition probabilities inducing continuous voicing state\n",
    "    transition = np.array([[0.99, 0.01], [0.01, 0.99]])\n",
    "\n",
    "    # mean and variance for unvoiced and voiced states\n",
    "    means = np.array([[0.0], [1.0]])\n",
    "    variances = np.array([[0.25], [0.25]])\n",
    "\n",
    "    # fix the model parameters because we are not optimizing the model\n",
    "    model = hmm.GaussianHMM(n_components=2)\n",
    "    model.startprob_, model.covars_, model.transmat_, model.means_, \\\n",
    "    model.n_features = starting, variances, transition, means, 1\n",
    "\n",
    "    # find the Viterbi path\n",
    "    voicing_states = model.predict(confidence.reshape(-1, 1), [len(confidence)])\n",
    "\n",
    "    return np.array(voicing_states)\n",
    "\n",
    "def extract_pitch(audio, unvoice=True, sr=16000, frame_shift_ms=10, log=True):\n",
    "    time, frequency, confidence, _ = crepe.predict(\n",
    "      audio, sr=sr,\n",
    "      viterbi=True,\n",
    "      step_size=frame_shift_ms,\n",
    "      verbose=0 if not log else 1)\n",
    "    f0 = frequency\n",
    "    # if unvoice:\n",
    "    #   is_voiced = predict_voicing(confidence)\n",
    "    #   frequency_unvoiced = frequency * is_voiced\n",
    "    #   f0 = frequency_unvoiced\n",
    "\n",
    "    return time, f0, confidence"
   ]
  },
  {
   "cell_type": "code",
   "execution_count": 59,
   "metadata": {},
   "outputs": [],
   "source": [
    "audio, sr = librosa.load(audio_path, sr=None)"
   ]
  },
  {
   "cell_type": "code",
   "execution_count": 60,
   "metadata": {},
   "outputs": [
    {
     "name": "stdout",
     "output_type": "stream",
     "text": [
      "\u001b[1m13/13\u001b[0m \u001b[32m━━━━━━━━━━━━━━━━━━━━\u001b[0m\u001b[37m\u001b[0m \u001b[1m10s\u001b[0m 754ms/step\n",
      "CPU times: user 2min 31s, sys: 826 ms, total: 2min 32s\n",
      "Wall time: 10 s\n"
     ]
    }
   ],
   "source": [
    "%time _, og_crepe_f0, _ = extract_pitch(audio, unvoice=True, sr=sr, frame_shift_ms=10, log=True)"
   ]
  },
  {
   "cell_type": "code",
   "execution_count": 61,
   "metadata": {},
   "outputs": [
    {
     "data": {
      "text/plain": [
       "(394,)"
      ]
     },
     "execution_count": 61,
     "metadata": {},
     "output_type": "execute_result"
    }
   ],
   "source": [
    "og_crepe_f0.shape"
   ]
  },
  {
   "cell_type": "markdown",
   "metadata": {},
   "source": [
    "Plot both contours"
   ]
  },
  {
   "cell_type": "code",
   "execution_count": 62,
   "metadata": {},
   "outputs": [
    {
     "data": {
      "text/plain": [
       "<matplotlib.legend.Legend at 0x7ff0d085e770>"
      ]
     },
     "execution_count": 62,
     "metadata": {},
     "output_type": "execute_result"
    },
    {
     "data": {
      "image/png": "[encoded data removed]",
      "text/plain": [
       "<Figure size 640x480 with 1 Axes>"
      ]
     },
     "metadata": {},
     "output_type": "display_data"
    }
   ],
   "source": [
    "plt.plot(torch_pitch[0, :], label='torchcrepe')\n",
    "plt.plot(og_crepe_f0, label='crepe')\n",
    "plt.legend()"
   ]
  },
  {
   "cell_type": "markdown",
   "metadata": {},
   "source": [
    "# Conclusion\n",
    "\n",
    "There is a significant speedup with torch crepe (420ms vs 10s.). I think the smoothing with crepe does a better job with identifying unvoiced parts, but for the purpose of the app I don't think this is absolutely necessary since we can assume a fairly clean input"
   ]
  },
  {
   "cell_type": "markdown",
   "metadata": {},
   "source": []
  }
 ],
 "metadata": {
  "kernelspec": {
   "display_name": "torch-crepe-test",
   "language": "python",
   "name": "python3"
  },
  "language_info": {
   "codemirror_mode": {
    "name": "ipython",
    "version": 3
   },
   "file_extension": ".py",
   "mimetype": "text/x-python",
   "name": "python",
   "nbconvert_exporter": "python",
   "pygments_lexer": "ipython3",
   "version": "3.10.15"
  }
 },
 "nbformat": 4,
 "nbformat_minor": 2
}
